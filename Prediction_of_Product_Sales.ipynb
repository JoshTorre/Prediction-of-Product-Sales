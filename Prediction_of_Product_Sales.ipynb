{
  "nbformat": 4,
  "nbformat_minor": 0,
  "metadata": {
    "colab": {
      "provenance": [],
      "authorship_tag": "ABX9TyP7uYUsRFZ+GH+VpIbEGvq7",
      "include_colab_link": true
    },
    "kernelspec": {
      "name": "python3",
      "display_name": "Python 3"
    },
    "language_info": {
      "name": "python"
    }
  },
  "cells": [
    {
      "cell_type": "markdown",
      "metadata": {
        "id": "view-in-github",
        "colab_type": "text"
      },
      "source": [
        "<a href=\"https://colab.research.google.com/github/JoshTorre/Prediction-of-Product-Sales/blob/main/Prediction_of_Product_Sales.ipynb\" target=\"_parent\"><img src=\"https://colab.research.google.com/assets/colab-badge.svg\" alt=\"Open In Colab\"/></a>"
      ]
    },
    {
      "cell_type": "markdown",
      "source": [
        "# Prediction of Product Sales\n",
        "  - Author: Joshua Torre"
      ],
      "metadata": {
        "id": "lTj9OLKTNNjD"
      }
    },
    {
      "cell_type": "markdown",
      "source": [
        "## Project Overview"
      ],
      "metadata": {
        "id": "2nUa5ouEO-g8"
      }
    },
    {
      "cell_type": "code",
      "source": [],
      "metadata": {
        "id": "9U15_F1-PAi1"
      },
      "execution_count": null,
      "outputs": []
    },
    {
      "cell_type": "markdown",
      "source": [
        "## Load and Inspect Data"
      ],
      "metadata": {
        "id": "U0G0F4UhPBfv"
      }
    },
    {
      "cell_type": "code",
      "source": [],
      "metadata": {
        "id": "BCJTYTsjPDnv"
      },
      "execution_count": null,
      "outputs": []
    },
    {
      "cell_type": "markdown",
      "source": [
        "## Clean Data"
      ],
      "metadata": {
        "id": "n-KmejPNPEGE"
      }
    },
    {
      "cell_type": "code",
      "source": [],
      "metadata": {
        "id": "A_xJ4FA6PGYo"
      },
      "execution_count": null,
      "outputs": []
    },
    {
      "cell_type": "markdown",
      "source": [
        "## Exploratory Data Analysis"
      ],
      "metadata": {
        "id": "ev0jCoyxPHH1"
      }
    },
    {
      "cell_type": "code",
      "source": [],
      "metadata": {
        "id": "EwU50ePyPKZC"
      },
      "execution_count": null,
      "outputs": []
    },
    {
      "cell_type": "markdown",
      "source": [
        "## Feature Inspection"
      ],
      "metadata": {
        "id": "1N8Px3zVPKw9"
      }
    },
    {
      "cell_type": "code",
      "source": [],
      "metadata": {
        "id": "p4DCp_FpPN3b"
      },
      "execution_count": null,
      "outputs": []
    }
  ]
}